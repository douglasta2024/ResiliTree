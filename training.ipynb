{
 "cells": [
  {
   "cell_type": "code",
   "execution_count": 11,
   "metadata": {
    "tags": []
   },
   "outputs": [],
   "source": [
    "import torch\n",
    "from torchvision import datasets, transforms\n",
    "from torch.utils.data import DataLoader, Dataset\n",
    "import os"
   ]
  },
  {
   "cell_type": "code",
   "execution_count": 9,
   "metadata": {
    "tags": []
   },
   "outputs": [
    {
     "data": {
      "text/plain": [
       "('/home/douglas.ta/ResiliTree/ResiliTree',\n",
       " '/home/douglas.ta/ResiliTree/ResiliTree/data')"
      ]
     },
     "execution_count": 9,
     "metadata": {},
     "output_type": "execute_result"
    }
   ],
   "source": [
    "root_dir = os.getcwd()\n",
    "data_dir = os.path.join(root_path, \"data\")\n",
    "root_dir, data_dir"
   ]
  },
  {
   "cell_type": "code",
   "execution_count": 25,
   "metadata": {
    "tags": []
   },
   "outputs": [],
   "source": [
    "transformations = transforms.Compose([\n",
    "    transforms.RandomHorizontalFlip(p=0.5),      # Flip images horizontally with 50% probability\n",
    "    transforms.RandomRotation(degrees=15),       # Rotate images randomly within a range of ±15 degrees\n",
    "    transforms.Resize((200,200)),                # Resizing images to be consistant with each other\n",
    "    transforms.ToTensor(),                       # Convert to PyTorch tensor\n",
    "])"
   ]
  },
  {
   "cell_type": "code",
   "execution_count": 28,
   "metadata": {
    "tags": []
   },
   "outputs": [],
   "source": [
    "class CustomImageDataset(Dataset):\n",
    "    def __init__(self, data_dir, transform=None):\n",
    "        self.data_dir = data_dir\n",
    "        self.transform = transform\n",
    "        self.image_paths = []\n",
    "        self.labels = []\n",
    "        \n",
    "        # Create a mapping from folder name to label\n",
    "        self.class_to_idx = {\n",
    "            \"eucalyptus\": 0,\n",
    "            \"live_oak\": 1,\n",
    "            \"maple\": 2,\n",
    "            \"queenpalm\": 3,\n",
    "            \"sabel_palm\": 4,\n",
    "            \"south_magnolia\": 5\n",
    "            }\n",
    "        \n",
    "        # Collect all image paths and their corresponding labels\n",
    "        for folder_name, label in self.class_to_idx.items():\n",
    "            folder_path = os.path.join(data_dir, folder_name)\n",
    "            for img_file in os.listdir(folder_path):\n",
    "                img_path = os.path.join(folder_path, img_file)\n",
    "                if img_path.endswith(('.png', '.jpg', '.jpeg', '.jfif', '.webp')):  # Filter for image files\n",
    "                    self.image_paths.append(img_path)\n",
    "                    self.labels.append(label)  # Append the label associated with the folder\n",
    "\n",
    "    def __len__(self):\n",
    "        return len(self.image_paths)\n",
    "\n",
    "    def __getitem__(self, idx):\n",
    "        img_path = self.image_paths[idx]\n",
    "        image = Image.open(img_path).convert(\"RGB\")\n",
    "        label = self.labels[idx]\n",
    "        \n",
    "        # Apply transformations if any\n",
    "        if self.transform:\n",
    "            image = self.transform(image)\n",
    "        \n",
    "        return image, label\n"
   ]
  },
  {
   "cell_type": "code",
   "execution_count": 29,
   "metadata": {
    "tags": []
   },
   "outputs": [],
   "source": [
    "# Initialize the dataset\n",
    "dataset = CustomImageDataset(data_dir=data_dir, transform=transforms)\n",
    "\n",
    "# Load the dataset into DataLoader\n",
    "data_loader = DataLoader(dataset, batch_size=5, shuffle=True)\n"
   ]
  }
 ],
 "metadata": {
  "kernelspec": {
   "display_name": "UFRC Python-3.10",
   "language": "python",
   "name": "python3-3.10-ufrc"
  },
  "language_info": {
   "codemirror_mode": {
    "name": "ipython",
    "version": 3
   },
   "file_extension": ".py",
   "mimetype": "text/x-python",
   "name": "python",
   "nbconvert_exporter": "python",
   "pygments_lexer": "ipython3",
   "version": "3.10.8"
  }
 },
 "nbformat": 4,
 "nbformat_minor": 4
}
